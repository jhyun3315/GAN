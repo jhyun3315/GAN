{
 "cells": [
  {
   "cell_type": "code",
   "execution_count": 1,
   "metadata": {},
   "outputs": [
    {
     "name": "stderr",
     "output_type": "stream",
     "text": [
      "Using TensorFlow backend.\n"
     ]
    }
   ],
   "source": [
    "import numpy as np\n",
    "import pandas as pd\n",
    "import matplotlib.pyplot as plt\n",
    "import seaborn as sbn\n",
    "%matplotlib inline\n",
    "import sys\n",
    "from os.path import join\n",
    "import warnings\n",
    "warnings.filterwarnings(\"ignore\")\n",
    "\n",
    "import tensorflow as tf\n",
    "from keras import layers, Input, models\n",
    "from keras.optimizers import Adam\n",
    "from keras.layers.advanced_activations import LeakyReLU\n",
    "from keras.backend.tensorflow_backend import set_session\n",
    "\n",
    "config = tf.ConfigProto()\n",
    "config.gpu_options.allow_growth = True \n",
    "\n",
    "sess = tf.Session(config=config)\n",
    "set_session(sess)  "
   ]
  },
  {
   "cell_type": "code",
   "execution_count": 2,
   "metadata": {},
   "outputs": [],
   "source": [
    "datax = pd.read_csv('./train.csv')\n",
    "datay = pd.read_csv('./target.csv',names=['label'])"
   ]
  },
  {
   "cell_type": "code",
   "execution_count": 3,
   "metadata": {},
   "outputs": [
    {
     "data": {
      "text/html": [
       "<div>\n",
       "<style scoped>\n",
       "    .dataframe tbody tr th:only-of-type {\n",
       "        vertical-align: middle;\n",
       "    }\n",
       "\n",
       "    .dataframe tbody tr th {\n",
       "        vertical-align: top;\n",
       "    }\n",
       "\n",
       "    .dataframe thead th {\n",
       "        text-align: right;\n",
       "    }\n",
       "</style>\n",
       "<table border=\"1\" class=\"dataframe\">\n",
       "  <thead>\n",
       "    <tr style=\"text-align: right;\">\n",
       "      <th></th>\n",
       "      <th>LIMIT_BAL</th>\n",
       "      <th>SEX</th>\n",
       "      <th>EDUCATION</th>\n",
       "      <th>MARRIAGE</th>\n",
       "      <th>AGE</th>\n",
       "      <th>PAY_0</th>\n",
       "      <th>PAY_2</th>\n",
       "      <th>PAY_3</th>\n",
       "      <th>PAY_4</th>\n",
       "      <th>PAY_5</th>\n",
       "      <th>...</th>\n",
       "      <th>BILL_AMT3</th>\n",
       "      <th>BILL_AMT4</th>\n",
       "      <th>BILL_AMT5</th>\n",
       "      <th>BILL_AMT6</th>\n",
       "      <th>PAY_AMT1</th>\n",
       "      <th>PAY_AMT2</th>\n",
       "      <th>PAY_AMT3</th>\n",
       "      <th>PAY_AMT4</th>\n",
       "      <th>PAY_AMT5</th>\n",
       "      <th>PAY_AMT6</th>\n",
       "    </tr>\n",
       "  </thead>\n",
       "  <tbody>\n",
       "    <tr>\n",
       "      <th>0</th>\n",
       "      <td>20000</td>\n",
       "      <td>2</td>\n",
       "      <td>2</td>\n",
       "      <td>1</td>\n",
       "      <td>24</td>\n",
       "      <td>2</td>\n",
       "      <td>2</td>\n",
       "      <td>-1</td>\n",
       "      <td>-1</td>\n",
       "      <td>-2</td>\n",
       "      <td>...</td>\n",
       "      <td>689</td>\n",
       "      <td>0</td>\n",
       "      <td>0</td>\n",
       "      <td>0</td>\n",
       "      <td>0</td>\n",
       "      <td>689</td>\n",
       "      <td>0</td>\n",
       "      <td>0</td>\n",
       "      <td>0</td>\n",
       "      <td>0</td>\n",
       "    </tr>\n",
       "    <tr>\n",
       "      <th>1</th>\n",
       "      <td>120000</td>\n",
       "      <td>2</td>\n",
       "      <td>2</td>\n",
       "      <td>2</td>\n",
       "      <td>26</td>\n",
       "      <td>-1</td>\n",
       "      <td>2</td>\n",
       "      <td>0</td>\n",
       "      <td>0</td>\n",
       "      <td>0</td>\n",
       "      <td>...</td>\n",
       "      <td>2682</td>\n",
       "      <td>3272</td>\n",
       "      <td>3455</td>\n",
       "      <td>3261</td>\n",
       "      <td>0</td>\n",
       "      <td>1000</td>\n",
       "      <td>1000</td>\n",
       "      <td>1000</td>\n",
       "      <td>0</td>\n",
       "      <td>2000</td>\n",
       "    </tr>\n",
       "    <tr>\n",
       "      <th>13</th>\n",
       "      <td>70000</td>\n",
       "      <td>1</td>\n",
       "      <td>2</td>\n",
       "      <td>2</td>\n",
       "      <td>30</td>\n",
       "      <td>1</td>\n",
       "      <td>2</td>\n",
       "      <td>2</td>\n",
       "      <td>0</td>\n",
       "      <td>0</td>\n",
       "      <td>...</td>\n",
       "      <td>65701</td>\n",
       "      <td>66782</td>\n",
       "      <td>36137</td>\n",
       "      <td>36894</td>\n",
       "      <td>3200</td>\n",
       "      <td>0</td>\n",
       "      <td>3000</td>\n",
       "      <td>3000</td>\n",
       "      <td>1500</td>\n",
       "      <td>0</td>\n",
       "    </tr>\n",
       "    <tr>\n",
       "      <th>16</th>\n",
       "      <td>20000</td>\n",
       "      <td>1</td>\n",
       "      <td>1</td>\n",
       "      <td>2</td>\n",
       "      <td>24</td>\n",
       "      <td>0</td>\n",
       "      <td>0</td>\n",
       "      <td>2</td>\n",
       "      <td>2</td>\n",
       "      <td>2</td>\n",
       "      <td>...</td>\n",
       "      <td>17428</td>\n",
       "      <td>18338</td>\n",
       "      <td>17905</td>\n",
       "      <td>19104</td>\n",
       "      <td>3200</td>\n",
       "      <td>0</td>\n",
       "      <td>1500</td>\n",
       "      <td>0</td>\n",
       "      <td>1650</td>\n",
       "      <td>0</td>\n",
       "    </tr>\n",
       "    <tr>\n",
       "      <th>21</th>\n",
       "      <td>120000</td>\n",
       "      <td>2</td>\n",
       "      <td>2</td>\n",
       "      <td>1</td>\n",
       "      <td>39</td>\n",
       "      <td>-1</td>\n",
       "      <td>-1</td>\n",
       "      <td>-1</td>\n",
       "      <td>-1</td>\n",
       "      <td>-1</td>\n",
       "      <td>...</td>\n",
       "      <td>316</td>\n",
       "      <td>0</td>\n",
       "      <td>632</td>\n",
       "      <td>316</td>\n",
       "      <td>316</td>\n",
       "      <td>316</td>\n",
       "      <td>0</td>\n",
       "      <td>632</td>\n",
       "      <td>316</td>\n",
       "      <td>0</td>\n",
       "    </tr>\n",
       "  </tbody>\n",
       "</table>\n",
       "<p>5 rows × 23 columns</p>\n",
       "</div>"
      ],
      "text/plain": [
       "    LIMIT_BAL  SEX  EDUCATION  MARRIAGE  AGE  PAY_0  PAY_2  PAY_3  PAY_4  \\\n",
       "0       20000    2          2         1   24      2      2     -1     -1   \n",
       "1      120000    2          2         2   26     -1      2      0      0   \n",
       "13      70000    1          2         2   30      1      2      2      0   \n",
       "16      20000    1          1         2   24      0      0      2      2   \n",
       "21     120000    2          2         1   39     -1     -1     -1     -1   \n",
       "\n",
       "    PAY_5  ...  BILL_AMT3  BILL_AMT4  BILL_AMT5  BILL_AMT6  PAY_AMT1  \\\n",
       "0      -2  ...        689          0          0          0         0   \n",
       "1       0  ...       2682       3272       3455       3261         0   \n",
       "13      0  ...      65701      66782      36137      36894      3200   \n",
       "16      2  ...      17428      18338      17905      19104      3200   \n",
       "21     -1  ...        316          0        632        316       316   \n",
       "\n",
       "    PAY_AMT2  PAY_AMT3  PAY_AMT4  PAY_AMT5  PAY_AMT6  \n",
       "0        689         0         0         0         0  \n",
       "1       1000      1000      1000         0      2000  \n",
       "13         0      3000      3000      1500         0  \n",
       "16         0      1500         0      1650         0  \n",
       "21       316         0       632       316         0  \n",
       "\n",
       "[5 rows x 23 columns]"
      ]
     },
     "execution_count": 3,
     "metadata": {},
     "output_type": "execute_result"
    }
   ],
   "source": [
    "dataEnt = pd.concat([datax, datay], axis=1)\n",
    "dataL1= dataEnt[dataEnt['label'].isin(['1'])]\n",
    "del dataL1['label']\n",
    "dataL1.head()"
   ]
  },
  {
   "cell_type": "code",
   "execution_count": 4,
   "metadata": {},
   "outputs": [
    {
     "data": {
      "text/html": [
       "<div>\n",
       "<style scoped>\n",
       "    .dataframe tbody tr th:only-of-type {\n",
       "        vertical-align: middle;\n",
       "    }\n",
       "\n",
       "    .dataframe tbody tr th {\n",
       "        vertical-align: top;\n",
       "    }\n",
       "\n",
       "    .dataframe thead th {\n",
       "        text-align: right;\n",
       "    }\n",
       "</style>\n",
       "<table border=\"1\" class=\"dataframe\">\n",
       "  <thead>\n",
       "    <tr style=\"text-align: right;\">\n",
       "      <th></th>\n",
       "      <th>LIMIT_BAL</th>\n",
       "      <th>SEX</th>\n",
       "      <th>EDUCATION</th>\n",
       "      <th>MARRIAGE</th>\n",
       "      <th>AGE</th>\n",
       "      <th>PAY_0</th>\n",
       "      <th>PAY_2</th>\n",
       "      <th>PAY_3</th>\n",
       "      <th>PAY_4</th>\n",
       "      <th>PAY_5</th>\n",
       "      <th>...</th>\n",
       "      <th>BILL_AMT3</th>\n",
       "      <th>BILL_AMT4</th>\n",
       "      <th>BILL_AMT5</th>\n",
       "      <th>BILL_AMT6</th>\n",
       "      <th>PAY_AMT1</th>\n",
       "      <th>PAY_AMT2</th>\n",
       "      <th>PAY_AMT3</th>\n",
       "      <th>PAY_AMT4</th>\n",
       "      <th>PAY_AMT5</th>\n",
       "      <th>PAY_AMT6</th>\n",
       "    </tr>\n",
       "  </thead>\n",
       "  <tbody>\n",
       "    <tr>\n",
       "      <th>0</th>\n",
       "      <td>0.013699</td>\n",
       "      <td>1.0</td>\n",
       "      <td>0.2</td>\n",
       "      <td>0.333333</td>\n",
       "      <td>0.055556</td>\n",
       "      <td>0.4</td>\n",
       "      <td>0.444444</td>\n",
       "      <td>0.1</td>\n",
       "      <td>0.1</td>\n",
       "      <td>0.0</td>\n",
       "      <td>...</td>\n",
       "      <td>0.097107</td>\n",
       "      <td>0.106276</td>\n",
       "      <td>0.088215</td>\n",
       "      <td>0.397393</td>\n",
       "      <td>0.000000</td>\n",
       "      <td>0.001921</td>\n",
       "      <td>0.000000</td>\n",
       "      <td>0.000000</td>\n",
       "      <td>0.000000</td>\n",
       "      <td>0.000000</td>\n",
       "    </tr>\n",
       "    <tr>\n",
       "      <th>1</th>\n",
       "      <td>0.150685</td>\n",
       "      <td>1.0</td>\n",
       "      <td>0.2</td>\n",
       "      <td>0.666667</td>\n",
       "      <td>0.092593</td>\n",
       "      <td>0.1</td>\n",
       "      <td>0.444444</td>\n",
       "      <td>0.2</td>\n",
       "      <td>0.2</td>\n",
       "      <td>0.2</td>\n",
       "      <td>...</td>\n",
       "      <td>0.100219</td>\n",
       "      <td>0.111612</td>\n",
       "      <td>0.093964</td>\n",
       "      <td>0.401209</td>\n",
       "      <td>0.000000</td>\n",
       "      <td>0.002788</td>\n",
       "      <td>0.001968</td>\n",
       "      <td>0.002314</td>\n",
       "      <td>0.000000</td>\n",
       "      <td>0.005792</td>\n",
       "    </tr>\n",
       "    <tr>\n",
       "      <th>13</th>\n",
       "      <td>0.082192</td>\n",
       "      <td>0.0</td>\n",
       "      <td>0.2</td>\n",
       "      <td>0.666667</td>\n",
       "      <td>0.166667</td>\n",
       "      <td>0.3</td>\n",
       "      <td>0.444444</td>\n",
       "      <td>0.4</td>\n",
       "      <td>0.2</td>\n",
       "      <td>0.2</td>\n",
       "      <td>...</td>\n",
       "      <td>0.198613</td>\n",
       "      <td>0.215186</td>\n",
       "      <td>0.148354</td>\n",
       "      <td>0.440565</td>\n",
       "      <td>0.010667</td>\n",
       "      <td>0.000000</td>\n",
       "      <td>0.005903</td>\n",
       "      <td>0.006942</td>\n",
       "      <td>0.004518</td>\n",
       "      <td>0.000000</td>\n",
       "    </tr>\n",
       "    <tr>\n",
       "      <th>16</th>\n",
       "      <td>0.013699</td>\n",
       "      <td>0.0</td>\n",
       "      <td>0.0</td>\n",
       "      <td>0.666667</td>\n",
       "      <td>0.055556</td>\n",
       "      <td>0.2</td>\n",
       "      <td>0.222222</td>\n",
       "      <td>0.4</td>\n",
       "      <td>0.4</td>\n",
       "      <td>0.4</td>\n",
       "      <td>...</td>\n",
       "      <td>0.123243</td>\n",
       "      <td>0.136182</td>\n",
       "      <td>0.118012</td>\n",
       "      <td>0.419748</td>\n",
       "      <td>0.010667</td>\n",
       "      <td>0.000000</td>\n",
       "      <td>0.002951</td>\n",
       "      <td>0.000000</td>\n",
       "      <td>0.004970</td>\n",
       "      <td>0.000000</td>\n",
       "    </tr>\n",
       "    <tr>\n",
       "      <th>21</th>\n",
       "      <td>0.150685</td>\n",
       "      <td>1.0</td>\n",
       "      <td>0.2</td>\n",
       "      <td>0.333333</td>\n",
       "      <td>0.333333</td>\n",
       "      <td>0.1</td>\n",
       "      <td>0.111111</td>\n",
       "      <td>0.1</td>\n",
       "      <td>0.1</td>\n",
       "      <td>0.1</td>\n",
       "      <td>...</td>\n",
       "      <td>0.096525</td>\n",
       "      <td>0.106276</td>\n",
       "      <td>0.089266</td>\n",
       "      <td>0.397762</td>\n",
       "      <td>0.001053</td>\n",
       "      <td>0.000881</td>\n",
       "      <td>0.000000</td>\n",
       "      <td>0.001463</td>\n",
       "      <td>0.000952</td>\n",
       "      <td>0.000000</td>\n",
       "    </tr>\n",
       "  </tbody>\n",
       "</table>\n",
       "<p>5 rows × 23 columns</p>\n",
       "</div>"
      ],
      "text/plain": [
       "    LIMIT_BAL  SEX  EDUCATION  MARRIAGE       AGE  PAY_0     PAY_2  PAY_3  \\\n",
       "0    0.013699  1.0        0.2  0.333333  0.055556    0.4  0.444444    0.1   \n",
       "1    0.150685  1.0        0.2  0.666667  0.092593    0.1  0.444444    0.2   \n",
       "13   0.082192  0.0        0.2  0.666667  0.166667    0.3  0.444444    0.4   \n",
       "16   0.013699  0.0        0.0  0.666667  0.055556    0.2  0.222222    0.4   \n",
       "21   0.150685  1.0        0.2  0.333333  0.333333    0.1  0.111111    0.1   \n",
       "\n",
       "    PAY_4  PAY_5  ...  BILL_AMT3  BILL_AMT4  BILL_AMT5  BILL_AMT6  PAY_AMT1  \\\n",
       "0     0.1    0.0  ...   0.097107   0.106276   0.088215   0.397393  0.000000   \n",
       "1     0.2    0.2  ...   0.100219   0.111612   0.093964   0.401209  0.000000   \n",
       "13    0.2    0.2  ...   0.198613   0.215186   0.148354   0.440565  0.010667   \n",
       "16    0.4    0.4  ...   0.123243   0.136182   0.118012   0.419748  0.010667   \n",
       "21    0.1    0.1  ...   0.096525   0.106276   0.089266   0.397762  0.001053   \n",
       "\n",
       "    PAY_AMT2  PAY_AMT3  PAY_AMT4  PAY_AMT5  PAY_AMT6  \n",
       "0   0.001921  0.000000  0.000000  0.000000  0.000000  \n",
       "1   0.002788  0.001968  0.002314  0.000000  0.005792  \n",
       "13  0.000000  0.005903  0.006942  0.004518  0.000000  \n",
       "16  0.000000  0.002951  0.000000  0.004970  0.000000  \n",
       "21  0.000881  0.000000  0.001463  0.000952  0.000000  \n",
       "\n",
       "[5 rows x 23 columns]"
      ]
     },
     "execution_count": 4,
     "metadata": {},
     "output_type": "execute_result"
    }
   ],
   "source": [
    "from sklearn.preprocessing import MinMaxScaler\n",
    "min_max_scaler = MinMaxScaler()\n",
    "fitted = min_max_scaler.fit(dataL1)\n",
    "\n",
    "df = dataL1.copy()\n",
    "\n",
    "dataL1 = min_max_scaler.transform(dataL1)\n",
    "dataL1 = pd.DataFrame(dataL1, columns=df.columns, index=list(df.index.values))\n",
    "dataL1.head()\n"
   ]
  },
  {
   "cell_type": "code",
   "execution_count": 5,
   "metadata": {},
   "outputs": [
    {
     "name": "stdout",
     "output_type": "stream",
     "text": [
      "WARNING:tensorflow:From /home/kyle/samsung/lib/python3.6/site-packages/tensorflow/python/framework/op_def_library.py:263: colocate_with (from tensorflow.python.framework.ops) is deprecated and will be removed in a future version.\n",
      "Instructions for updating:\n",
      "Colocations handled automatically by placer.\n",
      "_________________________________________________________________\n",
      "Layer (type)                 Output Shape              Param #   \n",
      "=================================================================\n",
      "input_1 (InputLayer)         (None, 23)                0         \n",
      "_________________________________________________________________\n",
      "dense_1 (Dense)              (None, 512)               12288     \n",
      "_________________________________________________________________\n",
      "dense_2 (Dense)              (None, 256)               131328    \n",
      "_________________________________________________________________\n",
      "dense_3 (Dense)              (None, 1)                 257       \n",
      "=================================================================\n",
      "Total params: 143,873\n",
      "Trainable params: 143,873\n",
      "Non-trainable params: 0\n",
      "_________________________________________________________________\n"
     ]
    }
   ],
   "source": [
    "epochs = 20000\n",
    "batch_size = 1024\n",
    "latent_dim = 100\n",
    "\n",
    "dis_input_tensor = Input(shape = (23,))\n",
    "dis_layer = layers.Dense(512, activation=LeakyReLU(alpha=0.2))(dis_input_tensor)\n",
    "dis_layer = layers.Dense(256, activation=LeakyReLU(alpha=0.2))(dis_layer)\n",
    "\n",
    "dis_output_tensor = layers.Dense(1, activation='sigmoid')(dis_layer)\n",
    "\n",
    "discriminator = models.Model(dis_input_tensor, dis_output_tensor, name='Discriminator')\n",
    "discriminator.compile(optimizer=Adam(0.0005,0.5), \n",
    "                     loss='binary_crossentropy',\n",
    "                     metrics=['accuracy'])\n",
    "discriminator.summary()\n"
   ]
  },
  {
   "cell_type": "code",
   "execution_count": 6,
   "metadata": {},
   "outputs": [],
   "source": [
    "gen_input_tensor = Input(shape = (latent_dim,))\n",
    "\n",
    "gen_layer = layers.Dense(256, activation=LeakyReLU(alpha=0.2))(gen_input_tensor)\n",
    "gen_layer = layers.BatchNormalization(momentum=0.8)(gen_layer)\n",
    "gen_layer = layers.Dense(512, activation=LeakyReLU(alpha=0.2))(gen_layer)\n",
    "gen_layer = layers.BatchNormalization(momentum=0.8)(gen_layer)\n",
    "gen_output_tensor = layers.Dense(23, activation='sigmoid')(gen_layer)\n",
    "\n",
    "generator = models.Model(gen_input_tensor, gen_output_tensor, name='Generator')"
   ]
  },
  {
   "cell_type": "code",
   "execution_count": 7,
   "metadata": {},
   "outputs": [
    {
     "name": "stdout",
     "output_type": "stream",
     "text": [
      "_________________________________________________________________\n",
      "Layer (type)                 Output Shape              Param #   \n",
      "=================================================================\n",
      "input_2 (InputLayer)         (None, 100)               0         \n",
      "_________________________________________________________________\n",
      "dense_4 (Dense)              (None, 256)               25856     \n",
      "_________________________________________________________________\n",
      "batch_normalization_1 (Batch (None, 256)               1024      \n",
      "_________________________________________________________________\n",
      "dense_5 (Dense)              (None, 512)               131584    \n",
      "_________________________________________________________________\n",
      "batch_normalization_2 (Batch (None, 512)               2048      \n",
      "_________________________________________________________________\n",
      "dense_6 (Dense)              (None, 23)                11799     \n",
      "=================================================================\n",
      "Total params: 172,311\n",
      "Trainable params: 170,775\n",
      "Non-trainable params: 1,536\n",
      "_________________________________________________________________\n"
     ]
    }
   ],
   "source": [
    "generator.summary()"
   ]
  },
  {
   "cell_type": "code",
   "execution_count": 8,
   "metadata": {},
   "outputs": [],
   "source": [
    "discriminator.trainable = False\n",
    "\n",
    "z = Input((latent_dim, ), name = 'noise_input')\n",
    "fake_data = generator(z)\n",
    "validity = discriminator(fake_data)\n",
    "\n",
    "combined_model = models.Model(z, validity, name='Combined_Model')\n",
    "\n",
    "combined_model.compile(optimizer=Adam(0.001,0.5),\n",
    "                       loss='binary_crossentropy',\n",
    "                       )"
   ]
  },
  {
   "cell_type": "code",
   "execution_count": 9,
   "metadata": {},
   "outputs": [
    {
     "name": "stdout",
     "output_type": "stream",
     "text": [
      "_________________________________________________________________\n",
      "Layer (type)                 Output Shape              Param #   \n",
      "=================================================================\n",
      "noise_input (InputLayer)     (None, 100)               0         \n",
      "_________________________________________________________________\n",
      "Generator (Model)            (None, 23)                172311    \n",
      "_________________________________________________________________\n",
      "Discriminator (Model)        (None, 1)                 143873    \n",
      "=================================================================\n",
      "Total params: 316,184\n",
      "Trainable params: 170,775\n",
      "Non-trainable params: 145,409\n",
      "_________________________________________________________________\n"
     ]
    }
   ],
   "source": [
    "combined_model.summary()"
   ]
  },
  {
   "cell_type": "code",
   "execution_count": 10,
   "metadata": {},
   "outputs": [],
   "source": [
    "valid = np.ones((batch_size, 1))\n",
    "fake = np.zeros((batch_size, 1))"
   ]
  },
  {
   "cell_type": "code",
   "execution_count": 11,
   "metadata": {},
   "outputs": [
    {
     "name": "stdout",
     "output_type": "stream",
     "text": [
      "WARNING:tensorflow:From /home/kyle/samsung/lib/python3.6/site-packages/tensorflow/python/ops/math_ops.py:3066: to_int32 (from tensorflow.python.ops.math_ops) is deprecated and will be removed in a future version.\n",
      "Instructions for updating:\n",
      "Use tf.cast instead.\n"
     ]
    }
   ],
   "source": [
    "step_size = len(dataL1)//batch_size\n",
    "\n",
    "for epoch in range(epochs):\n",
    "    for _ in range(step_size):\n",
    "        for _ in range(3):\n",
    "            idx = np.random.choice(dataL1.index, batch_size,False)\n",
    "            data = dataL1.loc[idx]\n",
    "            \n",
    "            noise = np.random.normal(0, 1, (batch_size, latent_dim))\n",
    "            \n",
    "            gen_data = generator.predict(noise)\n",
    "\n",
    "            d_loss_real = discriminator.train_on_batch(data, valid)\n",
    "            \n",
    "            d_loss_fake = discriminator.train_on_batch(gen_data, fake)\n",
    "            \n",
    "        noise = np.random.normal(0, 1, (batch_size, latent_dim))\n",
    "\n",
    "        g_loss = combined_model.train_on_batch(noise, valid)\n",
    "       "
   ]
  },
  {
   "cell_type": "code",
   "execution_count": 12,
   "metadata": {},
   "outputs": [],
   "source": [
    "noise=np.random.normal(size=(20000,latent_dim))"
   ]
  },
  {
   "cell_type": "code",
   "execution_count": 13,
   "metadata": {},
   "outputs": [],
   "source": [
    "generated_data=generator.predict(noise)"
   ]
  },
  {
   "cell_type": "code",
   "execution_count": 14,
   "metadata": {},
   "outputs": [
    {
     "data": {
      "text/plain": [
       "(20000, 23)"
      ]
     },
     "execution_count": 14,
     "metadata": {},
     "output_type": "execute_result"
    }
   ],
   "source": [
    "generated_data.shape"
   ]
  },
  {
   "cell_type": "code",
   "execution_count": 15,
   "metadata": {},
   "outputs": [
    {
     "data": {
      "text/plain": [
       "array([[3.8592336e+04, 1.0000000e+00, 1.9938594e+00, ..., 1.1471632e+03,\n",
       "        3.8902886e+03, 1.4124786e+02],\n",
       "       [1.6512730e+05, 2.0000000e+00, 2.0026565e+00, ..., 2.3596589e+03,\n",
       "        3.3232026e+03, 1.6303086e+03],\n",
       "       [4.2433238e+04, 1.0000000e+00, 2.0001612e+00, ..., 7.3480731e+02,\n",
       "        1.0371378e+03, 6.3067590e+02],\n",
       "       ...,\n",
       "       [1.7236467e+04, 2.0000000e+00, 2.0009933e+00, ..., 6.0255823e+02,\n",
       "        8.1882849e+02, 4.1750751e+02],\n",
       "       [5.6373742e+04, 2.0000000e+00, 1.9990450e+00, ..., 6.6982251e+02,\n",
       "        6.7257977e+02, 1.1652177e+03],\n",
       "       [8.2065570e+04, 2.0000000e+00, 2.0022111e+00, ..., 2.5834097e+03,\n",
       "        2.0380326e+03, 2.2235476e+03]], dtype=float32)"
      ]
     },
     "execution_count": 15,
     "metadata": {},
     "output_type": "execute_result"
    }
   ],
   "source": [
    "min_max_scaler.inverse_transform(generated_data)"
   ]
  },
  {
   "cell_type": "code",
   "execution_count": 16,
   "metadata": {},
   "outputs": [
    {
     "data": {
      "text/plain": [
       "pandas.core.frame.DataFrame"
      ]
     },
     "execution_count": 16,
     "metadata": {},
     "output_type": "execute_result"
    }
   ],
   "source": [
    "type(data)"
   ]
  },
  {
   "cell_type": "code",
   "execution_count": 24,
   "metadata": {},
   "outputs": [
    {
     "data": {
      "image/png": "[encoded data removed]",
      "text/plain": [
       "<Figure size 1080x360 with 2 Axes>"
      ]
     },
     "metadata": {
      "needs_background": "light"
     },
     "output_type": "display_data"
    }
   ],
   "source": [
    "n=7\n",
    "fig,ax=plt.subplots(1,2,figsize=(15,5))\n",
    "sbn.distplot(generated_data[:,n],kde=False,ax=ax[0])\n",
    "sbn.distplot(data.iloc[:,n],kde=False,ax=ax[1])\n",
    "plt.title(data.keys()[n])\n",
    "plt.show()"
   ]
  },
  {
   "cell_type": "code",
   "execution_count": 18,
   "metadata": {},
   "outputs": [
    {
     "data": {
      "text/plain": [
       "'0.9.0'"
      ]
     },
     "execution_count": 18,
     "metadata": {},
     "output_type": "execute_result"
    }
   ],
   "source": [
    "sbn.__version__"
   ]
  },
  {
   "cell_type": "code",
   "execution_count": null,
   "metadata": {},
   "outputs": [],
   "source": [
    "df = generated_data"
   ]
  },
  {
   "cell_type": "code",
   "execution_count": null,
   "metadata": {},
   "outputs": [],
   "source": []
  }
 ],
 "metadata": {
  "kernelspec": {
   "display_name": "samsung",
   "language": "python",
   "name": "samsung"
  },
  "language_info": {
   "codemirror_mode": {
    "name": "ipython",
    "version": 3
   },
   "file_extension": ".py",
   "mimetype": "text/x-python",
   "name": "python",
   "nbconvert_exporter": "python",
   "pygments_lexer": "ipython3",
   "version": "3.6.7"
  }
 },
 "nbformat": 4,
 "nbformat_minor": 2
}
